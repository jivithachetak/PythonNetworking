{
 "cells": [
  {
   "cell_type": "markdown",
   "id": "53d45ec1",
   "metadata": {},
   "source": [
    "# Website Network Connection  "
   ]
  },
  {
   "cell_type": "code",
   "execution_count": 2,
   "id": "4a2fc815",
   "metadata": {},
   "outputs": [],
   "source": [
    "import os\n",
    "#import network interface modules\n",
    "import netifaces"
   ]
  },
  {
   "cell_type": "code",
   "execution_count": 3,
   "id": "5bee377c",
   "metadata": {},
   "outputs": [],
   "source": [
    "class IPAddress:\n",
    "    def __init__(self, ip_family):\n",
    "        self.ip_family = 2 # Default value of 2 for IPv4\n",
    "        \n",
    "\n",
    "    #Return the default gateway IP for the machine.\n",
    "    def get_default_gateway_ip(self, IPval=0):\n",
    "        gateways = netifaces.gateways()\n",
    "        defaults = gateways.get(\"default\")\n",
    "        gateway_info = defaults.get(self.ip_family)\n",
    "        if not gateway_info:\n",
    "            return\n",
    "        else:\n",
    "            return gateway_info[IPval]\n",
    "    \n",
    "    #AF_INET is a dictionary of ip address families. \n",
    "    #Breaking down the dictionary to derive the desired ip adress family\n",
    "    def machine_ip(self):\n",
    "        #Breaking down the IPaddress dictionary to obtain key:value pair \n",
    "        addresses = netifaces.ifaddresses(self.get_default_gateway_ip(1)).get(self.ip_family)\n",
    "        if addresses:\n",
    "            return addresses[0][\"addr\"]\n",
    "        "
   ]
  },
  {
   "cell_type": "code",
   "execution_count": 4,
   "id": "96332a72",
   "metadata": {},
   "outputs": [],
   "source": [
    "#Instatiate IPAddress class\n",
    "IPval = IPAddress(ip_family=2)\n"
   ]
  },
  {
   "cell_type": "markdown",
   "id": "acd3cb85",
   "metadata": {},
   "source": [
    "# Find the default gateway"
   ]
  },
  {
   "cell_type": "code",
   "execution_count": 5,
   "id": "b4c9a786",
   "metadata": {},
   "outputs": [
    {
     "name": "stdout",
     "output_type": "stream",
     "text": [
      "default gateway info 192.168.1.1\n"
     ]
    }
   ],
   "source": [
    "#Find the Gateway of the system\n",
    "print(\"default gateway info\" , IPval.get_default_gateway_ip())"
   ]
  },
  {
   "cell_type": "markdown",
   "id": "714d456d",
   "metadata": {},
   "source": [
    "# Identify Machine IP address"
   ]
  },
  {
   "cell_type": "code",
   "execution_count": 6,
   "id": "e4e91128",
   "metadata": {},
   "outputs": [
    {
     "name": "stdout",
     "output_type": "stream",
     "text": [
      "IP address of machine 192.168.1.13\n"
     ]
    }
   ],
   "source": [
    "#Find the IP Address of the system\n",
    "print(\"IP address of machine\", IPval.machine_ip())"
   ]
  },
  {
   "cell_type": "markdown",
   "id": "9cc02ecc",
   "metadata": {},
   "source": [
    "# Ping gateway"
   ]
  },
  {
   "cell_type": "code",
   "execution_count": 7,
   "id": "f319e77a",
   "metadata": {},
   "outputs": [
    {
     "name": "stdout",
     "output_type": "stream",
     "text": [
      "192.168.1.1 gateway Ping Successful\n"
     ]
    }
   ],
   "source": [
    "ip = IPval.get_default_gateway_ip()\n",
    "\n",
    "response = os.system(\"ping -c 1 \" + ip)\n",
    "\n",
    "#Checking connection by status code {0}\n",
    "if response == 0 :\n",
    "    print(ip , \"gateway Ping Successful\")\n",
    "else:\n",
    "    print(ip , \"gateway Ping Unsuccessful\")"
   ]
  },
  {
   "cell_type": "markdown",
   "id": "a6d02c5e",
   "metadata": {},
   "source": [
    "# Check host connection"
   ]
  },
  {
   "cell_type": "code",
   "execution_count": 8,
   "id": "3a53b07d",
   "metadata": {},
   "outputs": [
    {
     "name": "stdout",
     "output_type": "stream",
     "text": [
      "www.heise.de is up!\n"
     ]
    }
   ],
   "source": [
    "hostname = \"www.heise.de\" \n",
    "status  = os.system(\"ping -c 1 \" + hostname)\n",
    "\n",
    "if status == 0:\n",
    "    print (hostname, 'is up!')\n",
    "else:\n",
    "    print (hostname, 'is down!')"
   ]
  },
  {
   "cell_type": "code",
   "execution_count": null,
   "id": "3f612801",
   "metadata": {},
   "outputs": [],
   "source": []
  },
  {
   "cell_type": "code",
   "execution_count": null,
   "id": "19e1ab0e",
   "metadata": {},
   "outputs": [],
   "source": [
    "+"
   ]
  }
 ],
 "metadata": {
  "kernelspec": {
   "display_name": "Python 3",
   "language": "python",
   "name": "python3"
  },
  "language_info": {
   "codemirror_mode": {
    "name": "ipython",
    "version": 3
   },
   "file_extension": ".py",
   "mimetype": "text/x-python",
   "name": "python",
   "nbconvert_exporter": "python",
   "pygments_lexer": "ipython3",
   "version": "3.8.8"
  }
 },
 "nbformat": 4,
 "nbformat_minor": 5
}
