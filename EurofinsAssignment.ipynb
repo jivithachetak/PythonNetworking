{
 "cells": [
  {
   "cell_type": "markdown",
   "id": "714d456d",
   "metadata": {},
   "source": [
    "# Identify Machine IP address"
   ]
  },
  {
   "cell_type": "code",
   "execution_count": 10,
   "id": "4a2fc815",
   "metadata": {},
   "outputs": [],
   "source": [
    "import os\n",
    "#import network interface modules\n",
    "import netifaces"
   ]
  },
  {
   "cell_type": "code",
   "execution_count": 2,
   "id": "f319e77a",
   "metadata": {},
   "outputs": [],
   "source": [
    "#AF_INET is a dictionary of ip address families. \n",
    "#Breaking down the dictionary to derive the desired ip adress family\n",
    "def default_ip(ip_family):\n",
    "    gateways = netifaces.gateways()\n",
    "    defaults =gateways.get(\"default\")\n",
    "    gateway_info = defaults.get(ip_family)\n",
    "    if not gateway_info:\n",
    "        return\n",
    "    \n",
    "    #Breaking down the IPaddress dictionary to obtain key:value pair    \n",
    "    addresses = netifaces.ifaddresses(gateway_info[1]).get(ip_family)\n",
    "    if addresses:\n",
    "        return addresses[0][\"addr\"]\n",
    "\n",
    "    return default_ip(netifaces.AF_INET) or default_ip(netifaces.AF_INET6) \n"
   ]
  },
  {
   "cell_type": "code",
   "execution_count": 4,
   "id": "48f9869f",
   "metadata": {},
   "outputs": [
    {
     "data": {
      "text/plain": [
       "'192.168.1.13'"
      ]
     },
     "execution_count": 4,
     "metadata": {},
     "output_type": "execute_result"
    }
   ],
   "source": [
    "default_ip(netifaces.AF_INET)"
   ]
  },
  {
   "cell_type": "markdown",
   "id": "acd3cb85",
   "metadata": {},
   "source": [
    "# Find the default gateway"
   ]
  },
  {
   "cell_type": "code",
   "execution_count": 6,
   "id": "688934ee",
   "metadata": {},
   "outputs": [],
   "source": [
    "#Return the default gateway IP for the machine.\n",
    "def get_machine_default_gateway_ip():\n",
    "    \n",
    "    gateways = netifaces.gateways()\n",
    "    defaults = gateways.get(\"default\")\n",
    "    \n",
    "    if not defaults:\n",
    "        return\n",
    "    else :\n",
    "        return defaults.values()"
   ]
  },
  {
   "cell_type": "code",
   "execution_count": 7,
   "id": "6a2c0d74",
   "metadata": {},
   "outputs": [
    {
     "data": {
      "text/plain": [
       "dict_values([('192.168.1.1', 'wifi0'), ('fe80::aa6a:bbff:fe94:98a3', 'wifi0')])"
      ]
     },
     "execution_count": 7,
     "metadata": {},
     "output_type": "execute_result"
    }
   ],
   "source": [
    "get_machine_default_gateway_ip()"
   ]
  },
  {
   "cell_type": "markdown",
   "id": "9cc02ecc",
   "metadata": {},
   "source": [
    "# Ping gateway"
   ]
  },
  {
   "cell_type": "code",
   "execution_count": 8,
   "id": "2e5a6c6f",
   "metadata": {},
   "outputs": [],
   "source": [
    "#AF_INET is a dictionary of ip address families. \n",
    "#Breaking down the dictionary to derive the desired ip adress family\n",
    "def default_ip(ip_family):\n",
    "    gateways = netifaces.gateways()\n",
    "    defaults =gateways.get(\"default\")\n",
    "    gateway_info = defaults.get(ip_family)\n",
    "    if not gateway_info:\n",
    "        return\n",
    "    #Breaking down the IPaddress dictionary to obtain key:value pair\n",
    "    addresses = netifaces.ifaddresses(gateway_info[1]).get(ip_family)\n",
    "    if addresses:\n",
    "        return addresses[0][\"addr\"]\n",
    "\n",
    "    return default_ip(netifaces.AF_INET) or default_ip(netifaces.AF_INET6) \n"
   ]
  },
  {
   "cell_type": "code",
   "execution_count": 11,
   "id": "9d7bac56",
   "metadata": {},
   "outputs": [
    {
     "name": "stdout",
     "output_type": "stream",
     "text": [
      "192.168.1.13 gateway Ping Successful\n"
     ]
    }
   ],
   "source": [
    "ip = default_ip(netifaces.AF_INET)\n",
    "response = os.system(\"ping -c 1 \" + ip)\n",
    "\n",
    "#Checking connection by status code {0}\n",
    "if response == 0 :\n",
    "    print(ip , \"gateway Ping Successful\")\n",
    "else:\n",
    "    print(ip , \"gateway Ping Unsuccessful\")"
   ]
  },
  {
   "cell_type": "markdown",
   "id": "a6d02c5e",
   "metadata": {},
   "source": [
    "# Check host connection"
   ]
  },
  {
   "cell_type": "code",
   "execution_count": 12,
   "id": "3a53b07d",
   "metadata": {},
   "outputs": [
    {
     "name": "stdout",
     "output_type": "stream",
     "text": [
      "www.heise.de is up!\n"
     ]
    }
   ],
   "source": [
    "hostname = \"www.heise.de\" \n",
    "status  = os.system(\"ping -c 1 \" + hostname)\n",
    "\n",
    "if status == 0:\n",
    "    print (hostname, 'is up!')\n",
    "else:\n",
    "    print (hostname, 'is down!')"
   ]
  },
  {
   "cell_type": "code",
   "execution_count": null,
   "id": "3f612801",
   "metadata": {},
   "outputs": [],
   "source": []
  }
 ],
 "metadata": {
  "kernelspec": {
   "display_name": "Python 3",
   "language": "python",
   "name": "python3"
  },
  "language_info": {
   "codemirror_mode": {
    "name": "ipython",
    "version": 3
   },
   "file_extension": ".py",
   "mimetype": "text/x-python",
   "name": "python",
   "nbconvert_exporter": "python",
   "pygments_lexer": "ipython3",
   "version": "3.8.8"
  }
 },
 "nbformat": 4,
 "nbformat_minor": 5
}
